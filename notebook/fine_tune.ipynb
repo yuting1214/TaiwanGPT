{
 "cells": [
  {
   "cell_type": "code",
   "execution_count": 1,
   "metadata": {},
   "outputs": [],
   "source": [
    "import sys\n",
    "import os\n",
    "\n",
    "# Add the root directory to Python path\n",
    "os.chdir(os.path.abspath('..'))"
   ]
  },
  {
   "cell_type": "markdown",
   "metadata": {},
   "source": [
    "# Data preparation"
   ]
  },
  {
   "cell_type": "code",
   "execution_count": 2,
   "metadata": {},
   "outputs": [
    {
     "name": "stderr",
     "output_type": "stream",
     "text": [
      "c:\\Users\\l501l\\Desktop\\TaiwanGPT\\.venv\\lib\\site-packages\\tqdm\\auto.py:21: TqdmWarning: IProgress not found. Please update jupyter and ipywidgets. See https://ipywidgets.readthedocs.io/en/stable/user_install.html\n",
      "  from .autonotebook import tqdm as notebook_tqdm\n"
     ]
    }
   ],
   "source": [
    "from src.data_loader.taiwanchat_loader import TaiwanChatDataLoader\n",
    "from src.data_processor.message_handler import (\n",
    "    format_fine_tune_dataset_as_messages,\n",
    "    check_openai_format_errors,\n",
    "    num_tokens_from_messages,\n",
    "    format_fine_tune_dataset_as_openai_input,\n",
    "    format_fine_tune_dataset_as_openai_input_with_threshold\n",
    ")"
   ]
  },
  {
   "cell_type": "code",
   "execution_count": 3,
   "metadata": {},
   "outputs": [
    {
     "name": "stdout",
     "output_type": "stream",
     "text": [
      "Dataset already exists at ./data/fine_tuning\\yentinglin/TaiwanChat. Loading from disk...\n"
     ]
    }
   ],
   "source": [
    "twchat_loader = TaiwanChatDataLoader(\"yentinglin/TaiwanChat\", cache_dir='./data/fine_tuning')\n",
    "twchat_dataset = twchat_loader.load_dataset()\n",
    "filtered_dataset = twchat_dataset.filter(lambda example: example['dataset_name'] == 'sharegpt')"
   ]
  },
  {
   "cell_type": "code",
   "execution_count": 4,
   "metadata": {},
   "outputs": [
    {
     "name": "stdout",
     "output_type": "stream",
     "text": [
      "No errors found\n"
     ]
    }
   ],
   "source": [
    "openai_input = format_fine_tune_dataset_as_openai_input_with_threshold(filtered_dataset, 2)\n",
    "check_openai_format_errors(openai_input)"
   ]
  },
  {
   "cell_type": "code",
   "execution_count": 5,
   "metadata": {},
   "outputs": [
    {
     "data": {
      "text/plain": [
       "1999693"
      ]
     },
     "execution_count": 5,
     "metadata": {},
     "output_type": "execute_result"
    }
   ],
   "source": [
    "token_list = [num_tokens_from_messages(message['messages']) for message in openai_input]\n",
    "sum(token_list)"
   ]
  },
  {
   "cell_type": "code",
   "execution_count": 6,
   "metadata": {},
   "outputs": [],
   "source": [
    "import json\n",
    "from datetime import datetime\n",
    "from typing import List, Dict\n",
    "\n",
    "def export_to_json(data: List[Dict], base_filename: str, output_dir: str = \".\"):\n",
    "    \"\"\"\n",
    "    Exports data to a JSON file with a timestamped suffix.\n",
    "    \n",
    "    Args:\n",
    "        data (List[Dict]): The data to be exported.\n",
    "        base_filename (str): The base name for the JSON file.\n",
    "        output_dir (str): The directory where the JSON file will be saved.\n",
    "    \"\"\"\n",
    "    # Generate the current timestamp in the format YYYY-MM-DD_HH-MM-SS\n",
    "    timestamp = datetime.now().strftime(\"%Y-%m-%d_%H-%M-%S\")\n",
    "    \n",
    "    # Create the full filename with the base name and timestamp\n",
    "    filename = f\"{base_filename}_{timestamp}.json\"\n",
    "    filepath = f\"{output_dir}/{filename}\"\n",
    "    \n",
    "    # Write the data to a JSON file\n",
    "    with open(filepath, \"w\", encoding=\"utf-8\") as f:\n",
    "        json.dump(data, f, ensure_ascii=False, indent=4)\n",
    "    \n",
    "    print(f\"Data exported to {filepath}\")\n"
   ]
  },
  {
   "cell_type": "code",
   "execution_count": 7,
   "metadata": {},
   "outputs": [
    {
     "name": "stdout",
     "output_type": "stream",
     "text": [
      "Data exported to ./data/fine_tuning/openai/Taiwan_Chat_sharegpt_2M_2024-09-22_20-50-42.json\n"
     ]
    }
   ],
   "source": [
    "export_to_json(openai_input, 'Taiwan_Chat_sharegpt_2M', './data/fine_tuning/openai')"
   ]
  },
  {
   "cell_type": "markdown",
   "metadata": {},
   "source": [
    "# Upload a training file"
   ]
  },
  {
   "cell_type": "code",
   "execution_count": null,
   "metadata": {},
   "outputs": [],
   "source": [
    "from openai import OpenAI\n",
    "client = OpenAI()\n",
    "\n",
    "client.fine_tuning.jobs.create(\n",
    "  training_file=\"file-abc123\",\n",
    "  model=\"gpt-4o-mini\"\n",
    ")"
   ]
  },
  {
   "cell_type": "markdown",
   "metadata": {},
   "source": [
    "#　Create a fine-tuned model"
   ]
  },
  {
   "cell_type": "markdown",
   "metadata": {},
   "source": [
    "# Create a fine-tuned model"
   ]
  }
 ],
 "metadata": {
  "kernelspec": {
   "display_name": ".venv",
   "language": "python",
   "name": "python3"
  },
  "language_info": {
   "codemirror_mode": {
    "name": "ipython",
    "version": 3
   },
   "file_extension": ".py",
   "mimetype": "text/x-python",
   "name": "python",
   "nbconvert_exporter": "python",
   "pygments_lexer": "ipython3",
   "version": "3.9.13"
  }
 },
 "nbformat": 4,
 "nbformat_minor": 2
}
