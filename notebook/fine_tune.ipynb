{
 "cells": [
  {
   "cell_type": "code",
   "execution_count": 1,
   "metadata": {},
   "outputs": [],
   "source": [
    "import sys\n",
    "import os\n",
    "\n",
    "# Add the root directory to Python path\n",
    "os.chdir(os.path.abspath('..'))"
   ]
  },
  {
   "cell_type": "markdown",
   "metadata": {},
   "source": [
    "# Data preparation"
   ]
  },
  {
   "cell_type": "code",
   "execution_count": 2,
   "metadata": {},
   "outputs": [
    {
     "name": "stderr",
     "output_type": "stream",
     "text": [
      "c:\\Users\\l501l\\Desktop\\TaiwanGPT\\.venv\\lib\\site-packages\\tqdm\\auto.py:21: TqdmWarning: IProgress not found. Please update jupyter and ipywidgets. See https://ipywidgets.readthedocs.io/en/stable/user_install.html\n",
      "  from .autonotebook import tqdm as notebook_tqdm\n"
     ]
    }
   ],
   "source": [
    "from src.data_loader.taiwanchat_loader import TaiwanChatDataLoader\n",
    "from src.data_processor.message_handler import (\n",
    "    format_fine_tune_dataset_as_messages,\n",
    "    check_openai_format_errors,\n",
    "    num_tokens_from_messages,\n",
    "    format_fine_tune_dataset_as_openai_input,\n",
    "    format_fine_tune_dataset_as_openai_input_with_threshold,\n",
    "    is_valid_openai_example\n",
    ")"
   ]
  },
  {
   "cell_type": "code",
   "execution_count": 3,
   "metadata": {},
   "outputs": [
    {
     "name": "stdout",
     "output_type": "stream",
     "text": [
      "Dataset already exists at ./data/fine_tuning\\yentinglin/TaiwanChat. Loading from disk...\n"
     ]
    }
   ],
   "source": [
    "twchat_loader = TaiwanChatDataLoader(\"yentinglin/TaiwanChat\", cache_dir='./data/fine_tuning')\n",
    "twchat_dataset = twchat_loader.load_dataset()\n",
    "filtered_dataset = twchat_dataset.filter(lambda example: example['dataset_name'] == 'sharegpt')"
   ]
  },
  {
   "cell_type": "code",
   "execution_count": 5,
   "metadata": {},
   "outputs": [
    {
     "name": "stdout",
     "output_type": "stream",
     "text": [
      "No errors found\n"
     ]
    }
   ],
   "source": [
    "openai_input = format_fine_tune_dataset_as_openai_input_with_threshold(filtered_dataset, 2)\n",
    "check_openai_format_errors(openai_input)"
   ]
  },
  {
   "cell_type": "code",
   "execution_count": 7,
   "metadata": {},
   "outputs": [
    {
     "data": {
      "text/plain": [
       "1593"
      ]
     },
     "execution_count": 7,
     "metadata": {},
     "output_type": "execute_result"
    }
   ],
   "source": [
    "len(openai_input)"
   ]
  },
  {
   "cell_type": "code",
   "execution_count": 11,
   "metadata": {},
   "outputs": [
    {
     "data": {
      "text/plain": [
       "1999737"
      ]
     },
     "execution_count": 11,
     "metadata": {},
     "output_type": "execute_result"
    }
   ],
   "source": [
    "token_list = [num_tokens_from_messages(message['messages']) for message in openai_input]\n",
    "sum(token_list)"
   ]
  },
  {
   "cell_type": "code",
   "execution_count": 6,
   "metadata": {},
   "outputs": [],
   "source": [
    "import json\n",
    "from datetime import datetime\n",
    "from typing import List, Dict\n",
    "\n",
    "def export_to_jsonl(data: List[Dict], base_filename: str, output_dir: str = \".\"):\n",
    "    \"\"\"\n",
    "    Exports data to a JSONL file with a timestamped suffix.\n",
    "    \n",
    "    Args:\n",
    "        data (List[Dict]): The data to be exported, with each dictionary representing a line.\n",
    "        base_filename (str): The base name for the JSONL file.\n",
    "        output_dir (str): The directory where the JSONL file will be saved.\n",
    "    \"\"\"\n",
    "    # Generate the current timestamp in the format YYYY-MM-DD_HH-MM-SS\n",
    "    timestamp = datetime.now().strftime(\"%Y-%m-%d_%H-%M-%S\")\n",
    "    \n",
    "    # Create the full filename with the base name and timestamp\n",
    "    filename = f\"{base_filename}_{timestamp}.jsonl\"\n",
    "    filepath = f\"{output_dir}/{filename}\"\n",
    "    \n",
    "    # Write the data to a JSONL file\n",
    "    with open(filepath, \"w\", encoding=\"utf-8\") as f:\n",
    "        for record in data:\n",
    "            json_line = json.dumps(record, ensure_ascii=False)\n",
    "            f.write(json_line + \"\\n\")\n",
    "    \n",
    "    print(f\"Data exported to {filepath}\")"
   ]
  },
  {
   "cell_type": "code",
   "execution_count": 7,
   "metadata": {},
   "outputs": [
    {
     "name": "stdout",
     "output_type": "stream",
     "text": [
      "Data exported to ./data/fine_tuning/openai/Taiwan_Chat_sharegpt_2M_2024-09-22_20-59-35.jsonl\n"
     ]
    }
   ],
   "source": [
    "export_to_jsonl(openai_input, 'Taiwan_Chat_sharegpt_2M', './data/fine_tuning/openai')"
   ]
  },
  {
   "cell_type": "markdown",
   "metadata": {},
   "source": [
    "# Upload a training file"
   ]
  },
  {
   "cell_type": "code",
   "execution_count": 9,
   "metadata": {},
   "outputs": [
    {
     "data": {
      "text/plain": [
       "FileObject(id='file-jS2NSDODgq49G2kTaSnIzOFT', bytes=6968989, created_at=1727053235, filename='Taiwan_Chat_sharegpt_2M_2024-09-22_20-59-35.jsonl', object='file', purpose='fine-tune', status='processed', status_details=None)"
      ]
     },
     "execution_count": 9,
     "metadata": {},
     "output_type": "execute_result"
    }
   ],
   "source": [
    "from openai import OpenAI\n",
    "client = OpenAI(api_key=os.environ.get(\"OPENAI_API_KEY\"))\n",
    "\n",
    "client.files.create(\n",
    "  file=open(\"./data/fine_tuning/openai/Taiwan_Chat_sharegpt_2M_2024-09-22_20-59-35.jsonl\", \"rb\"),\n",
    "  purpose=\"fine-tune\"\n",
    ")"
   ]
  },
  {
   "cell_type": "code",
   "execution_count": 10,
   "metadata": {},
   "outputs": [
    {
     "data": {
      "text/plain": [
       "SyncPage[FileObject](data=[FileObject(id='file-jS2NSDODgq49G2kTaSnIzOFT', bytes=6968989, created_at=1727053235, filename='Taiwan_Chat_sharegpt_2M_2024-09-22_20-59-35.jsonl', object='file', purpose='fine-tune', status='processed', status_details=None)], object='list', has_more=False, first_id='file-jS2NSDODgq49G2kTaSnIzOFT', last_id='file-jS2NSDODgq49G2kTaSnIzOFT')"
      ]
     },
     "execution_count": 10,
     "metadata": {},
     "output_type": "execute_result"
    }
   ],
   "source": [
    "from openai import OpenAI\n",
    "client = OpenAI()\n",
    "\n",
    "client.files.list()\n"
   ]
  },
  {
   "cell_type": "markdown",
   "metadata": {},
   "source": [
    "# Create a fine-tuned model"
   ]
  },
  {
   "cell_type": "code",
   "execution_count": 13,
   "metadata": {},
   "outputs": [
    {
     "data": {
      "text/plain": [
       "FineTuningJob(id='ftjob-SiimdLuhiSnT8f5EUmsOWnPh', created_at=1727053499, error=Error(code=None, message=None, param=None), fine_tuned_model=None, finished_at=None, hyperparameters=Hyperparameters(n_epochs='auto', batch_size='auto', learning_rate_multiplier='auto'), model='gpt-4o-mini-2024-07-18', object='fine_tuning.job', organization_id='org-JjIWWudV9j3i9nwPjwcSwS2n', result_files=[], seed=588826881, status='validating_files', trained_tokens=None, training_file='file-jS2NSDODgq49G2kTaSnIzOFT', validation_file=None, estimated_finish=None, integrations=[], user_provided_suffix='Taiwan_Chat_sharegpt_2M')"
      ]
     },
     "execution_count": 13,
     "metadata": {},
     "output_type": "execute_result"
    }
   ],
   "source": [
    "from openai import OpenAI\n",
    "client = OpenAI()\n",
    "\n",
    "client.fine_tuning.jobs.create(\n",
    "  training_file=\"file-jS2NSDODgq49G2kTaSnIzOFT\", \n",
    "  model=\"gpt-4o-mini-2024-07-18\",\n",
    "  suffix=\"Taiwan_Chat_sharegpt_2M\"\n",
    ")"
   ]
  },
  {
   "cell_type": "code",
   "execution_count": 14,
   "metadata": {},
   "outputs": [
    {
     "data": {
      "text/plain": [
       "SyncCursorPage[FineTuningJob](data=[FineTuningJob(id='ftjob-SiimdLuhiSnT8f5EUmsOWnPh', created_at=1727053499, error=Error(code='invalid_training_file', message='The job failed due to an invalid training file. Invalid file format. Example 52 The last message must be from the assistant', param='training_file'), fine_tuned_model=None, finished_at=None, hyperparameters=Hyperparameters(n_epochs='auto', batch_size='auto', learning_rate_multiplier='auto'), model='gpt-4o-mini-2024-07-18', object='fine_tuning.job', organization_id='org-JjIWWudV9j3i9nwPjwcSwS2n', result_files=[], seed=588826881, status='failed', trained_tokens=None, training_file='file-jS2NSDODgq49G2kTaSnIzOFT', validation_file=None, estimated_finish=None, integrations=[], user_provided_suffix='Taiwan_Chat_sharegpt_2M')], object='list', has_more=False)"
      ]
     },
     "execution_count": 14,
     "metadata": {},
     "output_type": "execute_result"
    }
   ],
   "source": [
    "from openai import OpenAI\n",
    "client = OpenAI()\n",
    "\n",
    "# List 10 fine-tuning jobs\n",
    "client.fine_tuning.jobs.list(limit=10)"
   ]
  }
 ],
 "metadata": {
  "kernelspec": {
   "display_name": ".venv",
   "language": "python",
   "name": "python3"
  },
  "language_info": {
   "codemirror_mode": {
    "name": "ipython",
    "version": 3
   },
   "file_extension": ".py",
   "mimetype": "text/x-python",
   "name": "python",
   "nbconvert_exporter": "python",
   "pygments_lexer": "ipython3",
   "version": "3.9.13"
  }
 },
 "nbformat": 4,
 "nbformat_minor": 2
}
