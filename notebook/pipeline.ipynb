{
 "cells": [
  {
   "cell_type": "code",
   "execution_count": 1,
   "metadata": {},
   "outputs": [],
   "source": [
    "import sys\n",
    "import os\n",
    "\n",
    "# Add the root directory to Python path\n",
    "os.chdir(os.path.abspath('..'))\n"
   ]
  },
  {
   "cell_type": "code",
   "execution_count": 2,
   "metadata": {},
   "outputs": [
    {
     "name": "stderr",
     "output_type": "stream",
     "text": [
      "c:\\Users\\l501l\\Desktop\\TaiwanGPT\\.venv\\lib\\site-packages\\tqdm\\auto.py:21: TqdmWarning: IProgress not found. Please update jupyter and ipywidgets. See https://ipywidgets.readthedocs.io/en/stable/user_install.html\n",
      "  from .autonotebook import tqdm as notebook_tqdm\n"
     ]
    },
    {
     "name": "stdout",
     "output_type": "stream",
     "text": [
      "Dataset already exists at ./data/eval\\miulab/tmlu. Loading from disk...\n"
     ]
    }
   ],
   "source": [
    "from src.data_loader.tmlu_loader import TMLUDataLoader\n",
    "from src.data_processor.message_handler import format_dataset_as_messages, num_tokens_from_messages\n",
    "\n",
    "# TMLU dataset\n",
    "tmlu_loader = TMLUDataLoader(\"miulab/tmlu\")\n",
    "tmlu_dataset = tmlu_loader.load_dataset()\n",
    "\n",
    "messages = format_dataset_as_messages(tmlu_dataset)"
   ]
  },
  {
   "cell_type": "code",
   "execution_count": 5,
   "metadata": {},
   "outputs": [
    {
     "data": {
      "text/plain": [
       "{'id': 'AST_chinese_test-108-3',\n",
       " 'question': '閱讀下文，選出依序最適合填入□內的選項：\\n甲、我母親和我姑姑一同出洋去，上船的那天她伏在竹床上痛哭，綠衣綠裙上面釘有□□發光的小片子。(張愛玲〈私語〉)\\n乙、蝴蝶的本能是吮吸花蜜，女人的愛亦是一種本能：採集所有美好事物引誘自己進入想像，從自身記憶□□□□並且偷摘他人經驗之片段，想像繁殖成更豐饒的想像，織成一張華麗的密網。（簡媜〈母者〉）\\n丙、母親是天可汗，當家的天可汗，一家之王，絕對的威權，分配空間與食物的主人。她要我報告的事，或她突如其來要我□□的事，我最好都要知道，所以我在覲見可汗時，不論她問不問我話，我的心中就是會先有腹稿。(鍾文音〈我的天可汗〉)',\n",
       " 'A': '張揚／綢繆未雨／奏疏',\n",
       " 'B': '抽搐／煮繭抽絲／奏疏',\n",
       " 'C': '張揚／煮繭抽絲／進貢\\t',\n",
       " 'D': '抽搐／綢繆未雨／進貢\\t',\n",
       " 'E': None,\n",
       " 'F': None,\n",
       " 'answer': 'B',\n",
       " 'explanation': '',\n",
       " 'metadata': {'timestamp': '2023-10-09T18:27:20.304623',\n",
       "  'source': 'AST chinese - 108',\n",
       "  'explanation_source': ''},\n",
       " 'human_evaluation': {'quality': '', 'comments': ''},\n",
       " 'subject': 'AST_chinese',\n",
       " 'user_content': '\\n        以下選擇題為出自臺灣的考題，答案為其中一個選項。\\n\\n        問題:\\n        閱讀下文，選出依序最適合填入□內的選項：\\n甲、我母親和我姑姑一同出洋去，上船的那天她伏在竹床上痛哭，綠衣綠裙上面釘有□□發光的小片子。(張愛玲〈私語〉)\\n乙、蝴蝶的本能是吮吸花蜜，女人的愛亦是一種本能：採集所有美好事物引誘自己進入想像，從自身記憶□□□□並且偷摘他人經驗之片段，想像繁殖成更豐饒的想像，織成一張華麗的密網。（簡媜〈母者〉）\\n丙、母親是天可汗，當家的天可汗，一家之王，絕對的威權，分配空間與食物的主人。她要我報告的事，或她突如其來要我□□的事，我最好都要知道，所以我在覲見可汗時，不論她問不問我話，我的心中就是會先有腹稿。(鍾文音〈我的天可汗〉)\\n\\n        (A) 張揚／綢繆未雨／奏疏 (B) 抽搐／煮繭抽絲／奏疏 (C) 張揚／煮繭抽絲／進貢\\t (D) 抽搐／綢繆未雨／進貢\\t\\n        正確答案：(\\n        '}"
      ]
     },
     "execution_count": 5,
     "metadata": {},
     "output_type": "execute_result"
    }
   ],
   "source": [
    "tmlu_dataset['test'][0]"
   ]
  },
  {
   "cell_type": "code",
   "execution_count": 3,
   "metadata": {},
   "outputs": [
    {
     "data": {
      "text/plain": [
       "[{'role': 'system',\n",
       "  'content': '\\n    你是一個具有廣泛臺灣相關知識的語言模型。你應該能夠提供關於臺灣的各種資訊，\\n    包括但不限於臺灣的歷史、文化、地理、政治、經濟、社會習俗以及當前事件。\\n    請確保你的回答準確且符合當地的文化背景。\\n'},\n",
       " {'role': 'user',\n",
       "  'content': '\\n        以下選擇題為出自臺灣的考題，答案為其中一個選項。\\n\\n        問題:\\n        下列各篇內容與其所屬文體，敘述最適當的是：\\n\\n        (A) 〈諫逐客書〉：李斯揣摩秦王心理，陳述逐客之弊，屬奏疏體 (B) 〈勸和論〉：鄭用錫為避免械鬥，代官府勸導百姓，屬上對下的詔令體 (C) 〈師說〉：韓愈追述儒道先師，屬探究事物本源的論辨體 (D) 〈諫太宗十思疏〉：魏徵逐一評述太宗所提的十種治道，屬注疏體\\n        正確答案：(\\n        '}]"
      ]
     },
     "execution_count": 3,
     "metadata": {},
     "output_type": "execute_result"
    }
   ],
   "source": [
    "messages[100]"
   ]
  },
  {
   "cell_type": "code",
   "execution_count": 4,
   "metadata": {},
   "outputs": [],
   "source": [
    "from src.llm.chain.llm_text_chain import call_openai, call_openai_parallel\n",
    "\n",
    "# Prepare the dataset messages\n",
    "response = await call_openai(messages=messages[100])"
   ]
  },
  {
   "cell_type": "code",
   "execution_count": 10,
   "metadata": {},
   "outputs": [],
   "source": [
    "response_list = await call_openai_parallel(messages_list=messages[:5])"
   ]
  },
  {
   "cell_type": "code",
   "execution_count": 11,
   "metadata": {},
   "outputs": [
    {
     "data": {
      "text/plain": [
       "[ChatCompletion(id='chatcmpl-A8vtb6qZw0wz5gTubdow3fokFaQ7x', choices=[Choice(finish_reason='stop', index=0, logprobs=None, message=ChatCompletionMessage(content='正確答案：C) 張揚／煮繭抽絲／進貢 \\n\\n解釋：\\n- 第一段中的“發光的小片子”可以用“張揚”來形容，表達一種鮮明和突出的感覺。\\n- 第二段中的“從自身記憶”適合填入“煮繭抽絲”，這形容了從自己的回憶中提取出精彩的部分。\\n- 第三段中的“要我”最適合用“進貢”，與母親的權威地位相呼應，表示要報告或進獻某些事情。', refusal=None, role='assistant', function_call=None, tool_calls=None))], created=1726692539, model='gpt-4o-mini-2024-07-18', object='chat.completion', service_tier=None, system_fingerprint='fp_2d87079ca9', usage=CompletionUsage(completion_tokens=143, prompt_tokens=478, total_tokens=621, completion_tokens_details={'reasoning_tokens': 0})),\n",
       " ChatCompletion(id='chatcmpl-A8vtbzVamhv0ODgcoxVOmzvNG0ES8', choices=[Choice(finish_reason='stop', index=0, logprobs=None, message=ChatCompletionMessage(content='正確答案是 (A)。這兩組句子都強調了領導者的行為和意義，並提出了先下民心、勞動為先的道理，前後意義較為相近。', refusal=None, role='assistant', function_call=None, tool_calls=None))], created=1726692539, model='gpt-4o-mini-2024-07-18', object='chat.completion', service_tier=None, system_fingerprint='fp_71fab63729', usage=CompletionUsage(completion_tokens=52, prompt_tokens=373, total_tokens=425, completion_tokens_details={'reasoning_tokens': 0})),\n",
       " ChatCompletion(id='chatcmpl-A8vtb5qsZGyq9pkIE4kcIIbgB04tP', choices=[Choice(finish_reason='stop', index=0, logprobs=None, message=ChatCompletionMessage(content='正確答案： (D) 大樓林立的金融中心\\n\\n這個選項最能概括文章內容，因為文章強調法蘭克福作為歐洲中央銀行所在地的金融中心地位，以及市內現代摩天大樓的景觀。', refusal=None, role='assistant', function_call=None, tool_calls=None))], created=1726692539, model='gpt-4o-mini-2024-07-18', object='chat.completion', service_tier=None, system_fingerprint='fp_2d87079ca9', usage=CompletionUsage(completion_tokens=62, prompt_tokens=507, total_tokens=569, completion_tokens_details={'reasoning_tokens': 0})),\n",
       " ChatCompletion(id='chatcmpl-A8vtbUryF5eH8sEI8rLlnF00fPTBS', choices=[Choice(finish_reason='stop', index=0, logprobs=None, message=ChatCompletionMessage(content='根據所提供的文本，最適當的敘述是：\\n\\n(A) 為維持懸疑與符合邏輯，偵探小說結局不可安排偵探為兇手 \\n\\n這是因為文本中提到「將偵探安排為凶手，通常會成為敗筆」，這說明了偵探小說的結局不應該讓偵探成為罪犯，以維持讀者的期待與邏輯性。其餘選項均未充分反映文本的重點或存在誤解。', refusal=None, role='assistant', function_call=None, tool_calls=None))], created=1726692539, model='gpt-4o-mini-2024-07-18', object='chat.completion', service_tier=None, system_fingerprint='fp_169fde5b32', usage=CompletionUsage(completion_tokens=129, prompt_tokens=633, total_tokens=762, completion_tokens_details={'reasoning_tokens': 0})),\n",
       " ChatCompletion(id='chatcmpl-A8vtbaTc5pnnwo9mGjqatiYoC1drN', choices=[Choice(finish_reason='stop', index=0, logprobs=None, message=ChatCompletionMessage(content='正確答案：(D) 蜜蜂舞蹈方式與蜜源方位、距離較為相關\\n\\n根據文本，蜜蜂的舞動方式不僅僅是用來表示花蜜或花粉的來源，而是用來傳達更複雜的信息，包括位置的距離與方向。這與選項(D)的內容最為一致。', refusal=None, role='assistant', function_call=None, tool_calls=None))], created=1726692539, model='gpt-4o-mini-2024-07-18', object='chat.completion', service_tier=None, system_fingerprint='fp_58050805ed', usage=CompletionUsage(completion_tokens=83, prompt_tokens=525, total_tokens=608, completion_tokens_details={'reasoning_tokens': 0}))]"
      ]
     },
     "execution_count": 11,
     "metadata": {},
     "output_type": "execute_result"
    }
   ],
   "source": [
    "response_list"
   ]
  },
  {
   "cell_type": "code",
   "execution_count": 5,
   "metadata": {},
   "outputs": [
    {
     "data": {
      "text/plain": [
       "'正確答案是：(A) 〈諫逐客書〉：李斯揣摩秦王心理，陳述逐客之弊，屬奏疏體。\\n\\n「諫逐客書」是李斯寫給秦王的奏疏，主要目的在於勸說秦王改變逐客的政策，因而屬於奏疏文體。其他選項中的描述不夠準確或混淆了文體定義。'"
      ]
     },
     "execution_count": 5,
     "metadata": {},
     "output_type": "execute_result"
    }
   ],
   "source": [
    "response.choices[0].message.content"
   ]
  },
  {
   "cell_type": "code",
   "execution_count": 6,
   "metadata": {},
   "outputs": [
    {
     "data": {
      "text/plain": [
       "Choice(finish_reason='stop', index=0, logprobs=None, message=ChatCompletionMessage(content='正確答案是：(A) 〈諫逐客書〉：李斯揣摩秦王心理，陳述逐客之弊，屬奏疏體。\\n\\n「諫逐客書」是李斯寫給秦王的奏疏，主要目的在於勸說秦王改變逐客的政策，因而屬於奏疏文體。其他選項中的描述不夠準確或混淆了文體定義。', refusal=None, role='assistant', function_call=None, tool_calls=None))"
      ]
     },
     "execution_count": 6,
     "metadata": {},
     "output_type": "execute_result"
    }
   ],
   "source": [
    "response.choices[0]"
   ]
  },
  {
   "cell_type": "code",
   "execution_count": 7,
   "metadata": {},
   "outputs": [
    {
     "data": {
      "text/plain": [
       "409"
      ]
     },
     "execution_count": 7,
     "metadata": {},
     "output_type": "execute_result"
    }
   ],
   "source": [
    "response.usage.total_tokens"
   ]
  }
 ],
 "metadata": {
  "kernelspec": {
   "display_name": ".venv",
   "language": "python",
   "name": "python3"
  },
  "language_info": {
   "codemirror_mode": {
    "name": "ipython",
    "version": 3
   },
   "file_extension": ".py",
   "mimetype": "text/x-python",
   "name": "python",
   "nbconvert_exporter": "python",
   "pygments_lexer": "ipython3",
   "version": "3.9.13"
  }
 },
 "nbformat": 4,
 "nbformat_minor": 2
}
